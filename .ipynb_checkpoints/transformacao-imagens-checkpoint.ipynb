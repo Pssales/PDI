{
 "cells": [
  {
   "cell_type": "markdown",
   "metadata": {},
   "source": [
    "# Transformação de imagens"
   ]
  },
  {
   "cell_type": "markdown",
   "metadata": {},
   "source": [
    "Verificando versão instalada do OpenCV"
   ]
  },
  {
   "cell_type": "code",
   "execution_count": null,
   "metadata": {},
   "outputs": [],
   "source": [
    "conda install seaborn"
   ]
  },
  {
   "cell_type": "code",
   "execution_count": 1,
   "metadata": {},
   "outputs": [
    {
     "ename": "ModuleNotFoundError",
     "evalue": "No module named 'seaborn'",
     "output_type": "error",
     "traceback": [
      "\u001b[1;31m---------------------------------------------------------------------------\u001b[0m",
      "\u001b[1;31mModuleNotFoundError\u001b[0m                       Traceback (most recent call last)",
      "\u001b[1;32m<ipython-input-1-fc503ddec32c>\u001b[0m in \u001b[0;36m<module>\u001b[1;34m\u001b[0m\n\u001b[0;32m      1\u001b[0m \u001b[1;32mimport\u001b[0m \u001b[0mnumpy\u001b[0m \u001b[1;32mas\u001b[0m \u001b[0mnp\u001b[0m\u001b[1;33m\u001b[0m\u001b[1;33m\u001b[0m\u001b[0m\n\u001b[0;32m      2\u001b[0m \u001b[1;32mimport\u001b[0m \u001b[0mmatplotlib\u001b[0m\u001b[1;33m.\u001b[0m\u001b[0mpyplot\u001b[0m \u001b[1;32mas\u001b[0m \u001b[0mplt\u001b[0m\u001b[1;33m\u001b[0m\u001b[1;33m\u001b[0m\u001b[0m\n\u001b[1;32m----> 3\u001b[1;33m \u001b[1;32mimport\u001b[0m \u001b[0mseaborn\u001b[0m \u001b[1;32mas\u001b[0m \u001b[0msns\u001b[0m\u001b[1;33m\u001b[0m\u001b[1;33m\u001b[0m\u001b[0m\n\u001b[0m\u001b[0;32m      4\u001b[0m \u001b[1;32mimport\u001b[0m \u001b[0mcv2\u001b[0m\u001b[1;33m\u001b[0m\u001b[1;33m\u001b[0m\u001b[0m\n\u001b[0;32m      5\u001b[0m \u001b[0mprint\u001b[0m\u001b[1;33m(\u001b[0m\u001b[0mcv2\u001b[0m\u001b[1;33m.\u001b[0m\u001b[0m__version__\u001b[0m\u001b[1;33m)\u001b[0m\u001b[1;33m\u001b[0m\u001b[1;33m\u001b[0m\u001b[0m\n",
      "\u001b[1;31mModuleNotFoundError\u001b[0m: No module named 'seaborn'"
     ]
    }
   ],
   "source": [
    "import numpy as np\n",
    "import matplotlib.pyplot as plt\n",
    "import seaborn as sns\n",
    "import cv2\n",
    "print(cv2.__version__)\n",
    "\n",
    "#Pop-up do Matplotlib\n",
    "#%matplotlib qt\n",
    "\n",
    "#Exibição na mesma tela do Jupyter\n",
    "%matplotlib inline\n",
    "\n",
    "plt.style.use('seaborn')\n",
    "sns.set_style(\"whitegrid\", {'axes.grid' : False})"
   ]
  },
  {
   "cell_type": "markdown",
   "metadata": {},
   "source": [
    "## Translação"
   ]
  },
  {
   "cell_type": "markdown",
   "metadata": {},
   "source": [
    "Carregando uma imagem previamente existente"
   ]
  },
  {
   "cell_type": "code",
   "execution_count": null,
   "metadata": {},
   "outputs": [],
   "source": [
    "imagem = cv2.imread(\"input/landsat-8.jpeg\")\n",
    "imagem = cv2.cvtColor(imagem, cv2.COLOR_BGR2RGB)\n",
    "\n",
    "plt.imshow(imagem)\n",
    "plt.title(\"Robô\")"
   ]
  },
  {
   "cell_type": "markdown",
   "metadata": {},
   "source": [
    "Aplicando translação, sempre em paralelo nos eixos x e y. Neste caso utilizando valores positivos."
   ]
  },
  {
   "cell_type": "code",
   "execution_count": null,
   "metadata": {},
   "outputs": [],
   "source": [
    "height, width = imagem.shape[:2]\n",
    "\n",
    "#Vamos alterar o tamanho para a 25% do original\n",
    "height_alterado, width_alterado = height/4, width/4\n",
    "\n",
    "# Matriz de translação\n",
    "matriz_translacao = np.float32([[1, 0, width_alterado],[0, 1, height_alterado]])\n",
    "\n",
    "print(matriz_translacao)\n",
    "\n",
    "imagem_transladada = cv2.warpAffine(imagem, matriz_translacao, (width, height))\n",
    "\n",
    "plt.imshow(imagem_transladada)\n",
    "plt.title(\"Robô Translação\")"
   ]
  },
  {
   "cell_type": "markdown",
   "metadata": {},
   "source": [
    "Aplicando translação no sentido inverso, utilizando valores negativos."
   ]
  },
  {
   "cell_type": "code",
   "execution_count": null,
   "metadata": {},
   "outputs": [],
   "source": [
    "matriz_translacao = np.float32([[1, 0, -width_alterado],[0, 1, -height_alterado]])\n",
    "\n",
    "# Matriz de translação\n",
    "print(matriz_translacao)\n",
    "\n",
    "imagem_transalada = cv2.warpAffine(imagem, matriz_translacao, (width, height))\n",
    "\n",
    "plt.imshow(imagem_transalada)\n",
    "plt.title(\"Robô Translação\")"
   ]
  },
  {
   "cell_type": "markdown",
   "metadata": {},
   "source": [
    "## Rotação"
   ]
  },
  {
   "cell_type": "markdown",
   "metadata": {},
   "source": [
    "Carregando uma imagem previamente existente"
   ]
  },
  {
   "cell_type": "code",
   "execution_count": null,
   "metadata": {},
   "outputs": [],
   "source": [
    "imagem = cv2.imread(\"input/landsat-8.jpeg\")\n",
    "imagem = cv2.cvtColor(imagem, cv2.COLOR_BGR2RGB)\n",
    "\n",
    "plt.imshow(imagem)\n",
    "plt.title(\"Robô\")"
   ]
  },
  {
   "cell_type": "markdown",
   "metadata": {},
   "source": [
    "Aplicando matriz de rotação e incluindo na transformação afim."
   ]
  },
  {
   "cell_type": "code",
   "execution_count": null,
   "metadata": {},
   "outputs": [],
   "source": [
    "height, width = imagem.shape[:2]\n",
    "matriz_rotacao = cv2.getRotationMatrix2D((width/2, height/2), 90, 1)\n",
    "imagem_rotacionada = cv2.warpAffine(imagem, matriz_rotacao, (width, height))\n",
    "\n",
    "print(matriz_rotacao)\n",
    "\n",
    "plt.imshow(imagem_rotacionada)\n",
    "plt.title(\"Robô Rotacionado\")"
   ]
  },
  {
   "cell_type": "markdown",
   "metadata": {},
   "source": [
    "Utilizando transposição de imagens. Método mais simples para rotações de ângulos retos."
   ]
  },
  {
   "cell_type": "code",
   "execution_count": null,
   "metadata": {},
   "outputs": [],
   "source": [
    "imagem_transposta = cv2.transpose(imagem)\n",
    "\n",
    "plt.imshow(imagem_rotacionada)\n",
    "plt.title(\"Robô Rotacionado (por transposição)\")"
   ]
  },
  {
   "cell_type": "markdown",
   "metadata": {},
   "source": [
    "## Redimensionamento e Interpolação"
   ]
  },
  {
   "cell_type": "markdown",
   "metadata": {},
   "source": [
    "O redimensionamento de imagens pode utilizar uma série de interpolações que servem para cobrir os pixels que são expandidos. Cada tipo de interpolação traz aspectos de maior nitidez e velocidade de processamento.\n",
    "\n",
    "*Os experimentos abaixo foram adaptados deste [link](http://tanbakuchi.com/posts/comparison-of-openv-interpolation-algorithms), de Anthony Tanbakuchi.*"
   ]
  },
  {
   "cell_type": "markdown",
   "metadata": {},
   "source": [
    "Carregando uma imagem previamente existente"
   ]
  },
  {
   "cell_type": "code",
   "execution_count": null,
   "metadata": {},
   "outputs": [],
   "source": [
    "imagem = cv2.imread(\"imagens/coffee_small.jpg\")\n",
    "imagem = cv2.cvtColor(imagem, cv2.COLOR_BGR2RGB)\n",
    "\n",
    "plt.imshow(imagem)\n",
    "plt.title(\"Café Original (Pequeno)\")"
   ]
  },
  {
   "cell_type": "markdown",
   "metadata": {},
   "source": [
    "Escala por fator (multiplicação)"
   ]
  },
  {
   "cell_type": "code",
   "execution_count": null,
   "metadata": {},
   "outputs": [],
   "source": [
    "fator_x=5\n",
    "fator_y=5\n",
    "\n",
    "imagem_nova_linear = cv2.resize(imagem, None, fx=fator_x, fy=fator_y)\n",
    "imagem_nova_cubica = cv2.resize(imagem, None, fx=fator_x, fy=fator_y, interpolation=cv2.INTER_CUBIC)\n",
    "imagem_nova_area = cv2.resize(imagem, None, fx=fator_x, fy=fator_y, interpolation=cv2.INTER_AREA)\n",
    "imagem_nova_lanczo = cv2.resize(imagem, None, fx=fator_x, fy=fator_y, interpolation=cv2.INTER_LANCZOS4)\n",
    "\n",
    "plt.figure(figsize=(20,10))\n",
    "plt.subplot(2,2,1)\n",
    "plt.imshow(imagem_nova_linear)\n",
    "plt.title(\"Ampliação Linear\")\n",
    "\n",
    "plt.subplot(2,2,2)\n",
    "plt.imshow(imagem_nova_cubica)\n",
    "plt.title(\"Ampliação Cúbica\")\n",
    "\n",
    "plt.subplot(2,2,3)\n",
    "plt.imshow(imagem_nova_area)\n",
    "plt.title(\"Ampliação Interárea\")\n",
    "\n",
    "plt.subplot(2,2,4)\n",
    "plt.imshow(imagem_nova_lanczo)\n",
    "plt.title(\"Ampliação Lanczo\")"
   ]
  },
  {
   "cell_type": "markdown",
   "metadata": {},
   "source": [
    "Escala por novo tamanho."
   ]
  },
  {
   "cell_type": "code",
   "execution_count": null,
   "metadata": {},
   "outputs": [],
   "source": [
    "novo_tamanho = (200,200)\n",
    "\n",
    "imagem_nova_linear = cv2.resize(imagem, novo_tamanho)\n",
    "imagem_nova_cubica = cv2.resize(imagem, novo_tamanho, interpolation=cv2.INTER_CUBIC)\n",
    "imagem_nova_interarea = cv2.resize(imagem, novo_tamanho, interpolation=cv2.INTER_AREA)\n",
    "imagem_nova_lanczo = cv2.resize(imagem, novo_tamanho, interpolation=cv2.INTER_LANCZOS4)\n",
    "\n",
    "plt.figure(figsize=(20,10))\n",
    "plt.subplot(2,2,1)\n",
    "plt.imshow(imagem_nova_linear)\n",
    "plt.title(\"Ampliação Linear\")\n",
    "\n",
    "plt.subplot(2,2,2)\n",
    "plt.imshow(imagem_nova_cubica)\n",
    "plt.title(\"Ampliação Cúbica\")\n",
    "\n",
    "plt.subplot(2,2,3)\n",
    "plt.imshow(imagem_nova_interarea)\n",
    "plt.title(\"Ampliação Interárea\")\n",
    "\n",
    "plt.subplot(2,2,4)\n",
    "plt.imshow(imagem_nova_lanczo)\n",
    "plt.title(\"Ampliação Lanczo\")"
   ]
  },
  {
   "cell_type": "markdown",
   "metadata": {},
   "source": [
    "Utilizando Image Pyramids para redimensionar imagens.\n",
    "A cada passagem a imagem é aumentada (*pyrUp*) ou diminuída (*pyrDown*) em uma escala de 50%.\n",
    "\n",
    "*Adaptado desta [documentação](https://docs.opencv.org/2.4/doc/tutorials/imgproc/pyramids/pyramids.html) do OpenCV*"
   ]
  },
  {
   "cell_type": "code",
   "execution_count": null,
   "metadata": {},
   "outputs": [],
   "source": [
    "imagem = cv2.imread(\"input/landsat-8.jpeg\")\n",
    "imagem = cv2.cvtColor(imagem, cv2.COLOR_BGR2RGB)\n",
    "\n",
    "# Para diminuir o tamanho, esta técnica utiliza a chamada Pirâmide Gaussiana\n",
    "\n",
    "imagem_menor_1 = cv2.pyrDown(imagem)\n",
    "imagem_menor_2 = cv2.pyrDown(imagem_menor_1)\n",
    "imagem_menor_3 = cv2.pyrDown(imagem_menor_2)\n",
    "\n",
    "plt.figure(figsize=(20,10))\n",
    "\n",
    "plt.subplot(1,4,1)\n",
    "plt.imshow(imagem)\n",
    "plt.title(\"Robô Original\")\n",
    "\n",
    "plt.subplot(1,4,2)\n",
    "plt.imshow(imagem_menor_1)\n",
    "plt.title(\"Robô Passo 1\")\n",
    "\n",
    "plt.subplot(1,4,3)\n",
    "plt.imshow(imagem_menor_2)\n",
    "plt.title(\"Robô Passo 2\")\n",
    "\n",
    "plt.subplot(1,4,4)\n",
    "plt.imshow(imagem_menor_3)\n",
    "plt.title(\"Robô Passo 3\")"
   ]
  },
  {
   "cell_type": "code",
   "execution_count": null,
   "metadata": {},
   "outputs": [],
   "source": [
    "# Para aumentar o tamanho, esta técnica utiliza a chamada Pirâmide Laplaciana\n",
    "\n",
    "imagem_maior_1 = cv2.pyrUp(imagem_menor_3)\n",
    "imagem_maior_1 = cv2.pyrUp(imagem_maior_1)\n",
    "imagem_maior_3 = cv2.pyrUp(imagem_maior_2)\n",
    "\n",
    "plt.figure(figsize=(20,10))\n",
    "\n",
    "plt.subplot(1,4,1)\n",
    "plt.imshow(imagem_menor_3)\n",
    "plt.title(\"Robô Original\")\n",
    "\n",
    "plt.subplot(1,4,2)\n",
    "plt.imshow(imagem_maior_1)\n",
    "plt.title(\"Robô Passo 1\")\n",
    "\n",
    "plt.subplot(1,4,3)\n",
    "plt.imshow(imagem_maior_2)\n",
    "plt.title(\"Robô Passo 2\")\n",
    "\n",
    "plt.subplot(1,4,4)\n",
    "plt.imshow(imagem_maior_3)\n",
    "plt.title(\"Robô Passo 3\")"
   ]
  },
  {
   "cell_type": "markdown",
   "metadata": {},
   "source": [
    "## Transformação Homográfica (Não-Afim)"
   ]
  },
  {
   "cell_type": "code",
   "execution_count": null,
   "metadata": {},
   "outputs": [],
   "source": [
    "imagem = cv2.imread(\"imagens/portal.jpg\")\n",
    "imagem = cv2.cvtColor(imagem, cv2.COLOR_BGR2RGB)\n",
    "\n",
    "plt.imshow(imagem)\n",
    "plt.title(\"Portal\")"
   ]
  },
  {
   "cell_type": "code",
   "execution_count": null,
   "metadata": {},
   "outputs": [],
   "source": [
    "height, width = imagem.shape[:2]\n",
    "\n",
    "imagem_marcadores = imagem.copy()\n",
    "\n",
    "print(height, width)\n",
    "\n",
    "pontos_marcadores = np.float32([[300,90],[510,100],[20,490],[780,490]])\n",
    "pontos_destino = np.float32([[0,0],[800,0],[0,600],[800,600]])\n",
    "\n",
    "# Adicionando marcadores para visualizar os pontos que serão expandidos\n",
    "\n",
    "cv2.circle(imagem_marcadores, (300,90), 5, (0, 0, 255), 3)\n",
    "cv2.circle(imagem_marcadores, (510,100), 5, (0, 0, 255), 3)\n",
    "cv2.circle(imagem_marcadores, (20,490), 5, (0, 0, 255), 3)\n",
    "cv2.circle(imagem_marcadores, (780,490), 5, (0, 0, 255), 3)\n",
    "\n",
    "plt.imshow(imagem_marcadores)\n",
    "plt.title(\"Portal com Marcadores\")"
   ]
  },
  {
   "cell_type": "code",
   "execution_count": null,
   "metadata": {},
   "outputs": [],
   "source": [
    "# Realizando a transformação não afim\n",
    "\n",
    "matriz_perspectiva = cv2.getPerspectiveTransform(pontos_marcadores, pontos_destino)\n",
    "imagem_transformada = cv2.warpPerspective(imagem,matriz_perspectiva,(800,600))\n",
    "\n",
    "plt.imshow(imagem_transformada)\n",
    "plt.title(\"Portal com Marcadores\")"
   ]
  },
  {
   "cell_type": "markdown",
   "metadata": {},
   "source": [
    "## Recortando uma imagem"
   ]
  },
  {
   "cell_type": "markdown",
   "metadata": {},
   "source": [
    "No OpenCV não existe uma função própria para recortar segmentos de uma imagem. Por outro lado, conseguimos fazer esta tarefa fácilmente aplicando diretamente na matriz da imagem as alterações."
   ]
  },
  {
   "cell_type": "code",
   "execution_count": null,
   "metadata": {},
   "outputs": [],
   "source": [
    "imagem = cv2.imread(\"input/landsat-8.jpeg\")\n",
    "imagem = cv2.cvtColor(imagem, cv2.COLOR_BGR2RGB)\n",
    "\n",
    "height, width = imagem.shape[:2]\n",
    "\n",
    "plt.imshow(imagem)\n",
    "plt.title(\"Imagem Original\")"
   ]
  },
  {
   "cell_type": "code",
   "execution_count": null,
   "metadata": {},
   "outputs": [],
   "source": [
    "linha_inicio, coluna_inicio = int(height*0.3), int(width*0.3)\n",
    "linha_final, coluna_final =  int(height*0.6), int(width*0.6)\n",
    "\n",
    "imagem_recortada = imagem[linha_inicio:linha_final, coluna_inicio:coluna_final]\n",
    "\n",
    "plt.imshow(imagem_recortada)\n",
    "plt.title(\"Imagem Recortada\")"
   ]
  },
  {
   "cell_type": "markdown",
   "metadata": {},
   "source": [
    "## Alterando brilho (nitidez) de uma imagem"
   ]
  },
  {
   "cell_type": "code",
   "execution_count": null,
   "metadata": {},
   "outputs": [],
   "source": [
    "imagem = cv2.imread(\"input/landsat-8.jpeg\")\n",
    "imagem = cv2.cvtColor(imagem, cv2.COLOR_BGR2RGB)\n",
    "\n",
    "imagem_shape = imagem.shape\n",
    "\n",
    "plt.imshow(imagem)\n",
    "plt.title(\"Imagem Original\")"
   ]
  },
  {
   "cell_type": "code",
   "execution_count": null,
   "metadata": {},
   "outputs": [],
   "source": [
    "matriz_brilho = np.ones(imagem_shape, np.uint8) * 100\n",
    "imagem_brilho = cv2.add(imagem, matriz_brilho)\n",
    "\n",
    "plt.imshow(imagem_brilho)\n",
    "plt.title(\"Imagem Brilho\")"
   ]
  },
  {
   "cell_type": "code",
   "execution_count": null,
   "metadata": {},
   "outputs": [],
   "source": [
    "imagem_escura = cv2.subtract(imagem, matriz_brilho)\n",
    "\n",
    "plt.imshow(imagem_escura)\n",
    "plt.title(\"Imagem Escura\")"
   ]
  },
  {
   "cell_type": "markdown",
   "metadata": {},
   "source": [
    "## Operações lógicas"
   ]
  },
  {
   "cell_type": "markdown",
   "metadata": {},
   "source": [
    "As operações lógicas ou bitwise operations são operações do tipo and, or, xor e not. São utilizadas na composição de 2 imagens, criar máscaras e intersecções."
   ]
  },
  {
   "cell_type": "code",
   "execution_count": null,
   "metadata": {},
   "outputs": [],
   "source": [
    "retangulo = np.zeros((300,300), np.uint8)\n",
    "cv2.rectangle(retangulo, (50,50), (200,200), 255, -2)\n",
    "\n",
    "plt.imshow(retangulo)\n",
    "plt.title(\"Retangulo\")"
   ]
  },
  {
   "cell_type": "code",
   "execution_count": null,
   "metadata": {},
   "outputs": [],
   "source": [
    "circulo = np.zeros((300,300), np.uint8)\n",
    "cv2.circle(circulo,(180,150), 100, 255, -2)\n",
    "\n",
    "plt.imshow(circulo)\n",
    "plt.title(\"Círculo\")"
   ]
  },
  {
   "cell_type": "code",
   "execution_count": null,
   "metadata": {},
   "outputs": [],
   "source": [
    "operacao_and = cv2.bitwise_and(retangulo, circulo)\n",
    "\n",
    "plt.imshow(operacao_and)\n",
    "plt.title(\"Operação And (E)\")"
   ]
  },
  {
   "cell_type": "code",
   "execution_count": null,
   "metadata": {},
   "outputs": [],
   "source": [
    "operacao_or = cv2.bitwise_or(retangulo, circulo)\n",
    "\n",
    "plt.imshow(operacao_or)\n",
    "plt.title(\"Operação Or (Ou)\")"
   ]
  },
  {
   "cell_type": "code",
   "execution_count": null,
   "metadata": {},
   "outputs": [],
   "source": [
    "operacao_xor = cv2.bitwise_xor(retangulo, circulo)\n",
    "\n",
    "plt.imshow(operacao_or)\n",
    "plt.title(\"Operação Xor (Ou Exclusivo)\")"
   ]
  },
  {
   "cell_type": "code",
   "execution_count": null,
   "metadata": {},
   "outputs": [],
   "source": [
    "operacao_negacao = cv2.bitwise_not(circulo)\n",
    "\n",
    "plt.imshow(operacao_negacao)\n",
    "plt.title(\"Operação Not (Negação)\")"
   ]
  },
  {
   "cell_type": "markdown",
   "metadata": {},
   "source": [
    "## Suavização de imagens"
   ]
  },
  {
   "cell_type": "markdown",
   "metadata": {},
   "source": [
    "A suavização de imagens (ou Blurring) auxilia no processo de remoção de ruídos e diminuição de detalhes de uma imagem."
   ]
  },
  {
   "cell_type": "code",
   "execution_count": null,
   "metadata": {},
   "outputs": [],
   "source": [
    "imagem = cv2.imread(\"imagens/old-person.jpg\")\n",
    "imagem = cv2.cvtColor(imagem, cv2.COLOR_BGR2RGB)\n",
    "\n",
    "plt.imshow(imagem)\n",
    "plt.title(\"Idoso\")"
   ]
  },
  {
   "cell_type": "code",
   "execution_count": null,
   "metadata": {},
   "outputs": [],
   "source": [
    "kernel = np.ones((3,3), np.float32)/9\n",
    "imagem_suavizada = cv2.filter2D(imagem, -1, kernel)\n",
    "\n",
    "plt.imshow(imagem_suavizada)\n",
    "plt.title(\"Suavização 3x3\")"
   ]
  },
  {
   "cell_type": "code",
   "execution_count": null,
   "metadata": {},
   "outputs": [],
   "source": [
    "kernel = np.ones((7,7), np.float32)/49\n",
    "imagem_suavizada = cv2.filter2D(imagem, -1, kernel)\n",
    "\n",
    "plt.imshow(imagem_suavizada)\n",
    "plt.title(\"Suavização 7x7\")"
   ]
  },
  {
   "cell_type": "markdown",
   "metadata": {},
   "source": [
    "Outras operações de suavização com filtros especializados."
   ]
  },
  {
   "cell_type": "code",
   "execution_count": null,
   "metadata": {},
   "outputs": [],
   "source": [
    "imagem = cv2.imread(\"imagens/old-person.jpg\")\n",
    "imagem = cv2.cvtColor(imagem, cv2.COLOR_BGR2RGB)\n",
    "\n",
    "plt.imshow(imagem)\n",
    "plt.title(\"Suavização 7x7\")"
   ]
  },
  {
   "cell_type": "code",
   "execution_count": null,
   "metadata": {},
   "outputs": [],
   "source": [
    "imagem = cv2.imread(\"imagens/old-person.jpg\")\n",
    "imagem = cv2.cvtColor(imagem, cv2.COLOR_BGR2RGB)\n",
    "\n",
    "plt.imshow(imagem)\n",
    "plt.title(\"Original\")"
   ]
  },
  {
   "cell_type": "code",
   "execution_count": null,
   "metadata": {},
   "outputs": [],
   "source": [
    "imagem_suav_padrao = cv2.blur(imagem, (5,5))\n",
    "\n",
    "plt.figure(figsize=(20,10))\n",
    "\n",
    "plt.subplot(2,2,1)\n",
    "plt.imshow(imagem_suav_padrao)\n",
    "plt.title(\"Suavização\")\n",
    "\n",
    "\n",
    "imagem_suav_gaussian = cv2.GaussianBlur(imagem, (7,7), 0)\n",
    "\n",
    "plt.subplot(2,2,2)\n",
    "plt.imshow(imagem_suav_gaussian)\n",
    "plt.title(\"Suavização Gaussiana\")\n",
    "\n",
    "imagem_suav_mediana = cv2.medianBlur(imagem, 5)\n",
    "            \n",
    "plt.subplot(2,2,3)\n",
    "plt.imshow(imagem_suav_mediana)\n",
    "plt.title(\"Suavização Mediana\")\n",
    "\n",
    "imagem_suav_bilateral = cv2.bilateralFilter(imagem, 9, 75, 75)\n",
    "\n",
    "plt.subplot(2,2,4)\n",
    "plt.imshow(imagem_suav_bilateral)\n",
    "plt.title(\"Suavização Bilateral\")"
   ]
  }
 ],
 "metadata": {
  "kernelspec": {
   "display_name": "Python 3",
   "language": "python",
   "name": "python3"
  },
  "language_info": {
   "codemirror_mode": {
    "name": "ipython",
    "version": 3
   },
   "file_extension": ".py",
   "mimetype": "text/x-python",
   "name": "python",
   "nbconvert_exporter": "python",
   "pygments_lexer": "ipython3",
   "version": "3.7.3"
  }
 },
 "nbformat": 4,
 "nbformat_minor": 2
}
