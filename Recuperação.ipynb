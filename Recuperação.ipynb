{
 "cells": [
  {
   "cell_type": "code",
   "execution_count": null,
   "metadata": {},
   "outputs": [],
   "source": [
    "import cv2\n",
    "import numpy as np\n",
    " \n",
    "# Carrega a imagem original\n",
    "image = cv2.imread(\"input/ruido.jpg\")\n",
    "\n",
    "# Aplica os respectivos filtros\n",
    "kernel = np.ones((6,6),np.float32)/25\n",
    "filter2D = cv2.filter2D(image,-1,kernel)\n",
    "blur = cv2.blur(image,(5,5))\n",
    "gaussianBlur = cv2.GaussianBlur(image,(5,5),0)\n",
    "median = cv2.medianBlur(image,5)\n",
    "bilateralFilter = cv2.bilateralFilter(image,9,75,75)\n",
    "\n",
    "# Escreve o nome de cada filtro na imagem correspondente\n",
    "font = cv2.FONT_HERSHEY_SIMPLEX\n",
    "cv2.putText(image,'Original Image',(5,320), font, 1, (0,0,255), 2, cv2.LINE_AA)\n",
    "cv2.putText(filter2D,'Filter 2D',(45,320), font, 1, (0,0,255), 2, cv2.LINE_AA)\n",
    "cv2.putText(blur,'Blur',(80,320), font, 1, (0,0,255), 2, cv2.LINE_AA)\n",
    "cv2.putText(gaussianBlur,'Gaussian Blur',(10,320), font, 1, (0,0,255), 2, cv2.LINE_AA)\n",
    "cv2.putText(median,'Median',(60,320), font, 1, (0,0,255), 2, cv2.LINE_AA)\n",
    "cv2.putText(bilateralFilter,'Bilateral Filter',(10,320), font, 1, (0,0,255), 2, cv2.LINE_AA)\n",
    "\n",
    "# Concatena as imagens para gerar a imagem de saida\n",
    "tempImage1 = np.concatenate((image, median, gaussianBlur), axis=1)\n",
    "tempImage2 = np.concatenate((bilateralFilter, blur, filter2D), axis=1)\n",
    "finalImage = np.concatenate((tempImage1, tempImage2), axis=0)\n",
    "\n",
    "# Salva a imagem\n",
    "cv2.imwrite(\"image.png\", finalImage)\n",
    "# Mostra a imagem final concatenadab\n",
    "cv2.imshow(\"Final Image\", finalImage)\n",
    "# Aguarda tecla para finalizar\n",
    "cv2.waitKey(0)"
   ]
  },
  {
   "cell_type": "code",
   "execution_count": 1,
   "metadata": {},
   "outputs": [
    {
     "name": "stdout",
     "output_type": "stream",
     "text": [
      "Collecting package metadata (repodata.json): ...working... done\n",
      "Solving environment: ...working... done\n",
      "\n",
      "# All requested packages already installed.\n",
      "\n",
      "\n",
      "Note: you may need to restart the kernel to use updated packages.\n"
     ]
    },
    {
     "name": "stderr",
     "output_type": "stream",
     "text": [
      "WARNING conda.base.context:use_only_tar_bz2(632): Conda is constrained to only using the old .tar.bz2 file format because you have conda-build installed, and it is <3.18.3.  Update or remove conda-build to get smaller downloads and faster extractions.\n"
     ]
    }
   ],
   "source": [
    "conda install Pillow"
   ]
  },
  {
   "cell_type": "code",
   "execution_count": 3,
   "metadata": {},
   "outputs": [],
   "source": [
    "from PIL import Image, ImageFilter\n",
    "#Read image\n",
    "im = Image.open( 'input/ruido.jpg' )\n",
    "#Display image\n",
    "im.show()\n",
    "\n",
    "#Applying a filter to the image\n",
    "im_sharp = im.filter( ImageFilter.SHARPEN )\n",
    "#Saving the filtered image to a new file\n",
    "im_sharp.save( 'input/image_sharpened.jpg', 'JPEG' )\n",
    "\n",
    "#Splitting the image into its respective bands, i.e. Red, Green,\n",
    "#and Blue for RGB\n",
    "r,g,b = im_sharp.split()\n",
    "\n",
    "#Viewing EXIF data embedded in image\n",
    "exif_data = im._getexif()\n",
    "exif_data"
   ]
  }
 ],
 "metadata": {
  "kernelspec": {
   "display_name": "Python [conda env:pdi] *",
   "language": "python",
   "name": "conda-env-pdi-py"
  },
  "language_info": {
   "codemirror_mode": {
    "name": "ipython",
    "version": 3
   },
   "file_extension": ".py",
   "mimetype": "text/x-python",
   "name": "python",
   "nbconvert_exporter": "python",
   "pygments_lexer": "ipython3",
   "version": "3.7.3"
  }
 },
 "nbformat": 4,
 "nbformat_minor": 2
}
